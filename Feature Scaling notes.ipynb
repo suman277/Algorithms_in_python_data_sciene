{
 "cells": [
  {
   "cell_type": "markdown",
   "id": "d4dba5df",
   "metadata": {},
   "source": [
    "# Feature Scaling"
   ]
  },
  {
   "cell_type": "markdown",
   "id": "ab71cf1d",
   "metadata": {},
   "source": [
    "What is Feature"
   ]
  },
  {
   "cell_type": "markdown",
   "id": "8121cace",
   "metadata": {},
   "source": [
    "A feature is a measurable property of the object you're trying to analyze"
   ]
  },
  {
   "cell_type": "markdown",
   "id": "b0c8897f",
   "metadata": {},
   "source": [
    "Feature Scaling defined as the method to scale the numeric features in the same scale or range"
   ]
  },
  {
   "cell_type": "markdown",
   "id": "104d547e",
   "metadata": {},
   "source": [
    "in this method, we can convert the different scaling data into a single scaling data"
   ]
  },
  {
   "cell_type": "markdown",
   "id": "b610d30d",
   "metadata": {},
   "source": [
    "This is the last processing after the data pre processing and after this the implementation of ML algorithm takes place."
   ]
  },
  {
   "cell_type": "markdown",
   "id": "298b7b9b",
   "metadata": {},
   "source": [
    "It is also called as data normalization"
   ]
  },
  {
   "cell_type": "markdown",
   "id": "b4b761d1",
   "metadata": {},
   "source": [
    "It is applied on the independent variables"
   ]
  },
  {
   "cell_type": "markdown",
   "id": "ddfe5e12",
   "metadata": {},
   "source": [
    "This is fitted into train data and transform train and test data"
   ]
  },
  {
   "cell_type": "markdown",
   "id": "7b3a3221",
   "metadata": {},
   "source": [
    "Machine Learning cant understand units it only understands numerical values."
   ]
  },
  {
   "cell_type": "raw",
   "id": "6aa9937e",
   "metadata": {},
   "source": [
    "Algorithms that require Feature Scaling"
   ]
  },
  {
   "cell_type": "markdown",
   "id": "fc1459a4",
   "metadata": {},
   "source": [
    "1.KNN"
   ]
  },
  {
   "cell_type": "markdown",
   "id": "2e0ae1dc",
   "metadata": {},
   "source": [
    "2.K-Means"
   ]
  },
  {
   "cell_type": "markdown",
   "id": "9c178148",
   "metadata": {},
   "source": [
    "3.Support Vector Machine"
   ]
  },
  {
   "cell_type": "markdown",
   "id": "e8a24f2d",
   "metadata": {},
   "source": [
    "4.Principal Component Analysis"
   ]
  },
  {
   "cell_type": "markdown",
   "id": "40cddd95",
   "metadata": {},
   "source": [
    "5.Linear Discriminant Analysis"
   ]
  },
  {
   "cell_type": "markdown",
   "id": "bfcbe290",
   "metadata": {},
   "source": [
    "# Gradinet Descent Based Algorithms:"
   ]
  },
  {
   "cell_type": "markdown",
   "id": "03198653",
   "metadata": {},
   "source": [
    "Gradient descent is an optimization algorithm which is commonly-used to train machine learning models and neural networks and it is used to optimise the data"
   ]
  },
  {
   "cell_type": "markdown",
   "id": "21383f49",
   "metadata": {},
   "source": [
    "1.Linear "
   ]
  },
  {
   "cell_type": "markdown",
   "id": "5e4a3176",
   "metadata": {},
   "source": [
    "2.Logistic"
   ]
  },
  {
   "cell_type": "markdown",
   "id": "4574a7ac",
   "metadata": {},
   "source": [
    "3.Support Vector Machine"
   ]
  },
  {
   "cell_type": "raw",
   "id": "f04cf254",
   "metadata": {},
   "source": [
    "Algorithms that don't support Feature Scaling:"
   ]
  },
  {
   "cell_type": "markdown",
   "id": "e020f66d",
   "metadata": {},
   "source": [
    "Decision Tree"
   ]
  },
  {
   "cell_type": "markdown",
   "id": "2f16ca72",
   "metadata": {},
   "source": [
    " Random Forest"
   ]
  },
  {
   "cell_type": "markdown",
   "id": "63393f23",
   "metadata": {},
   "source": [
    "XGBoost"
   ]
  },
  {
   "cell_type": "raw",
   "id": "2ef5253d",
   "metadata": {},
   "source": [
    "Types of Feature Scaling"
   ]
  },
  {
   "cell_type": "markdown",
   "id": "e088407a",
   "metadata": {},
   "source": [
    "1.Min-Max Scalar"
   ]
  },
  {
   "cell_type": "markdown",
   "id": "ea615b20",
   "metadata": {},
   "source": [
    "2.Standard Scaler"
   ]
  },
  {
   "cell_type": "markdown",
   "id": "9d5bf60e",
   "metadata": {},
   "source": [
    "3.Max Abs Scaler"
   ]
  },
  {
   "cell_type": "markdown",
   "id": "eb0958ef",
   "metadata": {},
   "source": [
    "4.Robust Scaler"
   ]
  },
  {
   "cell_type": "markdown",
   "id": "312c544e",
   "metadata": {},
   "source": [
    "5.Quantile Transformer Scaler"
   ]
  },
  {
   "cell_type": "markdown",
   "id": "1858b561",
   "metadata": {},
   "source": [
    "6.Power Transformer Scaler"
   ]
  },
  {
   "cell_type": "markdown",
   "id": "6b229b4d",
   "metadata": {},
   "source": [
    "7.Unit Vector Scaler"
   ]
  },
  {
   "cell_type": "markdown",
   "id": "d6475a61",
   "metadata": {},
   "source": [
    "** In which the algorithms used maximumly are Min-Max Scaler and Standard Scaler"
   ]
  },
  {
   "cell_type": "markdown",
   "id": "0e883ad7",
   "metadata": {},
   "source": [
    "# Standardization"
   ]
  },
  {
   "cell_type": "markdown",
   "id": "2d4b33e1",
   "metadata": {},
   "source": [
    "Standardisation rescales the feature such as mean=0 and standard deviation(01)=1\n",
    "(x-mew)/standard deviation"
   ]
  },
  {
   "cell_type": "markdown",
   "id": "352f4797",
   "metadata": {},
   "source": [
    "The result of standard deviation is called as Z-score normalization"
   ]
  },
  {
   "cell_type": "markdown",
   "id": "8c11c1bb",
   "metadata": {},
   "source": [
    "if the original distribution is normal then the normaldistribution will be normal"
   ]
  },
  {
   "cell_type": "markdown",
   "id": "bca39c45",
   "metadata": {},
   "source": [
    "if the original distribution is skewed, then the standardization distribution of the varaible will also be skewed."
   ]
  },
  {
   "cell_type": "markdown",
   "id": "d82e7773",
   "metadata": {},
   "source": [
    "# Normalization"
   ]
  },
  {
   "cell_type": "markdown",
   "id": "a46cd398",
   "metadata": {},
   "source": [
    "Normalization rescale the feature in fixed range between 0 and 1"
   ]
  },
  {
   "cell_type": "markdown",
   "id": "bdd27fc7",
   "metadata": {},
   "source": [
    "x(norm)=(x-x min)/(x max- xmin)"
   ]
  },
  {
   "cell_type": "markdown",
   "id": "6d48ee95",
   "metadata": {},
   "source": [
    "Normalization is called as Min-Max Scaling"
   ]
  },
  {
   "cell_type": "markdown",
   "id": "2c7d85c8",
   "metadata": {},
   "source": [
    "If the data doesn't follow normal distribution(Gaussian Distribution)"
   ]
  },
  {
   "cell_type": "markdown",
   "id": "94ca99bc",
   "metadata": {},
   "source": [
    "# Standardization Vs Normalization"
   ]
  },
  {
   "cell_type": "markdown",
   "id": "e63a5ca4",
   "metadata": {},
   "source": [
    "There is no any thumb rule to standaradization or normalization for special ML algorithm"
   ]
  },
  {
   "cell_type": "markdown",
   "id": "7e2d475a",
   "metadata": {},
   "source": [
    "but mostly Standardization use for clustering analyses, Principal Component Analysis."
   ]
  },
  {
   "cell_type": "markdown",
   "id": "3831d80b",
   "metadata": {},
   "source": [
    "Normalization prefer for image processing because pixel intensity between 0 to 255, neural network algorithm require data in scale 0-1, K-Nearest Neighbors."
   ]
  },
  {
   "cell_type": "code",
   "execution_count": 1,
   "id": "1bc31a47",
   "metadata": {},
   "outputs": [],
   "source": [
    "import numpy as np\n",
    "import pandas as pd"
   ]
  },
  {
   "cell_type": "code",
   "execution_count": 2,
   "id": "b937896c",
   "metadata": {},
   "outputs": [],
   "source": [
    "import seaborn as sns"
   ]
  },
  {
   "cell_type": "code",
   "execution_count": 3,
   "id": "94daa446",
   "metadata": {},
   "outputs": [],
   "source": [
    "data=sns.load_dataset('titanic')"
   ]
  },
  {
   "cell_type": "code",
   "execution_count": 4,
   "id": "ae8fd1b1",
   "metadata": {},
   "outputs": [
    {
     "data": {
      "text/html": [
       "<div>\n",
       "<style scoped>\n",
       "    .dataframe tbody tr th:only-of-type {\n",
       "        vertical-align: middle;\n",
       "    }\n",
       "\n",
       "    .dataframe tbody tr th {\n",
       "        vertical-align: top;\n",
       "    }\n",
       "\n",
       "    .dataframe thead th {\n",
       "        text-align: right;\n",
       "    }\n",
       "</style>\n",
       "<table border=\"1\" class=\"dataframe\">\n",
       "  <thead>\n",
       "    <tr style=\"text-align: right;\">\n",
       "      <th></th>\n",
       "      <th>survived</th>\n",
       "      <th>pclass</th>\n",
       "      <th>sex</th>\n",
       "      <th>age</th>\n",
       "      <th>sibsp</th>\n",
       "      <th>parch</th>\n",
       "      <th>fare</th>\n",
       "      <th>embarked</th>\n",
       "      <th>class</th>\n",
       "      <th>who</th>\n",
       "      <th>adult_male</th>\n",
       "      <th>deck</th>\n",
       "      <th>embark_town</th>\n",
       "      <th>alive</th>\n",
       "      <th>alone</th>\n",
       "    </tr>\n",
       "  </thead>\n",
       "  <tbody>\n",
       "    <tr>\n",
       "      <th>0</th>\n",
       "      <td>0</td>\n",
       "      <td>3</td>\n",
       "      <td>male</td>\n",
       "      <td>22.0</td>\n",
       "      <td>1</td>\n",
       "      <td>0</td>\n",
       "      <td>7.2500</td>\n",
       "      <td>S</td>\n",
       "      <td>Third</td>\n",
       "      <td>man</td>\n",
       "      <td>True</td>\n",
       "      <td>NaN</td>\n",
       "      <td>Southampton</td>\n",
       "      <td>no</td>\n",
       "      <td>False</td>\n",
       "    </tr>\n",
       "    <tr>\n",
       "      <th>1</th>\n",
       "      <td>1</td>\n",
       "      <td>1</td>\n",
       "      <td>female</td>\n",
       "      <td>38.0</td>\n",
       "      <td>1</td>\n",
       "      <td>0</td>\n",
       "      <td>71.2833</td>\n",
       "      <td>C</td>\n",
       "      <td>First</td>\n",
       "      <td>woman</td>\n",
       "      <td>False</td>\n",
       "      <td>C</td>\n",
       "      <td>Cherbourg</td>\n",
       "      <td>yes</td>\n",
       "      <td>False</td>\n",
       "    </tr>\n",
       "    <tr>\n",
       "      <th>2</th>\n",
       "      <td>1</td>\n",
       "      <td>3</td>\n",
       "      <td>female</td>\n",
       "      <td>26.0</td>\n",
       "      <td>0</td>\n",
       "      <td>0</td>\n",
       "      <td>7.9250</td>\n",
       "      <td>S</td>\n",
       "      <td>Third</td>\n",
       "      <td>woman</td>\n",
       "      <td>False</td>\n",
       "      <td>NaN</td>\n",
       "      <td>Southampton</td>\n",
       "      <td>yes</td>\n",
       "      <td>True</td>\n",
       "    </tr>\n",
       "    <tr>\n",
       "      <th>3</th>\n",
       "      <td>1</td>\n",
       "      <td>1</td>\n",
       "      <td>female</td>\n",
       "      <td>35.0</td>\n",
       "      <td>1</td>\n",
       "      <td>0</td>\n",
       "      <td>53.1000</td>\n",
       "      <td>S</td>\n",
       "      <td>First</td>\n",
       "      <td>woman</td>\n",
       "      <td>False</td>\n",
       "      <td>C</td>\n",
       "      <td>Southampton</td>\n",
       "      <td>yes</td>\n",
       "      <td>False</td>\n",
       "    </tr>\n",
       "    <tr>\n",
       "      <th>4</th>\n",
       "      <td>0</td>\n",
       "      <td>3</td>\n",
       "      <td>male</td>\n",
       "      <td>35.0</td>\n",
       "      <td>0</td>\n",
       "      <td>0</td>\n",
       "      <td>8.0500</td>\n",
       "      <td>S</td>\n",
       "      <td>Third</td>\n",
       "      <td>man</td>\n",
       "      <td>True</td>\n",
       "      <td>NaN</td>\n",
       "      <td>Southampton</td>\n",
       "      <td>no</td>\n",
       "      <td>True</td>\n",
       "    </tr>\n",
       "    <tr>\n",
       "      <th>...</th>\n",
       "      <td>...</td>\n",
       "      <td>...</td>\n",
       "      <td>...</td>\n",
       "      <td>...</td>\n",
       "      <td>...</td>\n",
       "      <td>...</td>\n",
       "      <td>...</td>\n",
       "      <td>...</td>\n",
       "      <td>...</td>\n",
       "      <td>...</td>\n",
       "      <td>...</td>\n",
       "      <td>...</td>\n",
       "      <td>...</td>\n",
       "      <td>...</td>\n",
       "      <td>...</td>\n",
       "    </tr>\n",
       "    <tr>\n",
       "      <th>886</th>\n",
       "      <td>0</td>\n",
       "      <td>2</td>\n",
       "      <td>male</td>\n",
       "      <td>27.0</td>\n",
       "      <td>0</td>\n",
       "      <td>0</td>\n",
       "      <td>13.0000</td>\n",
       "      <td>S</td>\n",
       "      <td>Second</td>\n",
       "      <td>man</td>\n",
       "      <td>True</td>\n",
       "      <td>NaN</td>\n",
       "      <td>Southampton</td>\n",
       "      <td>no</td>\n",
       "      <td>True</td>\n",
       "    </tr>\n",
       "    <tr>\n",
       "      <th>887</th>\n",
       "      <td>1</td>\n",
       "      <td>1</td>\n",
       "      <td>female</td>\n",
       "      <td>19.0</td>\n",
       "      <td>0</td>\n",
       "      <td>0</td>\n",
       "      <td>30.0000</td>\n",
       "      <td>S</td>\n",
       "      <td>First</td>\n",
       "      <td>woman</td>\n",
       "      <td>False</td>\n",
       "      <td>B</td>\n",
       "      <td>Southampton</td>\n",
       "      <td>yes</td>\n",
       "      <td>True</td>\n",
       "    </tr>\n",
       "    <tr>\n",
       "      <th>888</th>\n",
       "      <td>0</td>\n",
       "      <td>3</td>\n",
       "      <td>female</td>\n",
       "      <td>NaN</td>\n",
       "      <td>1</td>\n",
       "      <td>2</td>\n",
       "      <td>23.4500</td>\n",
       "      <td>S</td>\n",
       "      <td>Third</td>\n",
       "      <td>woman</td>\n",
       "      <td>False</td>\n",
       "      <td>NaN</td>\n",
       "      <td>Southampton</td>\n",
       "      <td>no</td>\n",
       "      <td>False</td>\n",
       "    </tr>\n",
       "    <tr>\n",
       "      <th>889</th>\n",
       "      <td>1</td>\n",
       "      <td>1</td>\n",
       "      <td>male</td>\n",
       "      <td>26.0</td>\n",
       "      <td>0</td>\n",
       "      <td>0</td>\n",
       "      <td>30.0000</td>\n",
       "      <td>C</td>\n",
       "      <td>First</td>\n",
       "      <td>man</td>\n",
       "      <td>True</td>\n",
       "      <td>C</td>\n",
       "      <td>Cherbourg</td>\n",
       "      <td>yes</td>\n",
       "      <td>True</td>\n",
       "    </tr>\n",
       "    <tr>\n",
       "      <th>890</th>\n",
       "      <td>0</td>\n",
       "      <td>3</td>\n",
       "      <td>male</td>\n",
       "      <td>32.0</td>\n",
       "      <td>0</td>\n",
       "      <td>0</td>\n",
       "      <td>7.7500</td>\n",
       "      <td>Q</td>\n",
       "      <td>Third</td>\n",
       "      <td>man</td>\n",
       "      <td>True</td>\n",
       "      <td>NaN</td>\n",
       "      <td>Queenstown</td>\n",
       "      <td>no</td>\n",
       "      <td>True</td>\n",
       "    </tr>\n",
       "  </tbody>\n",
       "</table>\n",
       "<p>891 rows × 15 columns</p>\n",
       "</div>"
      ],
      "text/plain": [
       "     survived  pclass     sex   age  sibsp  parch     fare embarked   class  \\\n",
       "0           0       3    male  22.0      1      0   7.2500        S   Third   \n",
       "1           1       1  female  38.0      1      0  71.2833        C   First   \n",
       "2           1       3  female  26.0      0      0   7.9250        S   Third   \n",
       "3           1       1  female  35.0      1      0  53.1000        S   First   \n",
       "4           0       3    male  35.0      0      0   8.0500        S   Third   \n",
       "..        ...     ...     ...   ...    ...    ...      ...      ...     ...   \n",
       "886         0       2    male  27.0      0      0  13.0000        S  Second   \n",
       "887         1       1  female  19.0      0      0  30.0000        S   First   \n",
       "888         0       3  female   NaN      1      2  23.4500        S   Third   \n",
       "889         1       1    male  26.0      0      0  30.0000        C   First   \n",
       "890         0       3    male  32.0      0      0   7.7500        Q   Third   \n",
       "\n",
       "       who  adult_male deck  embark_town alive  alone  \n",
       "0      man        True  NaN  Southampton    no  False  \n",
       "1    woman       False    C    Cherbourg   yes  False  \n",
       "2    woman       False  NaN  Southampton   yes   True  \n",
       "3    woman       False    C  Southampton   yes  False  \n",
       "4      man        True  NaN  Southampton    no   True  \n",
       "..     ...         ...  ...          ...   ...    ...  \n",
       "886    man        True  NaN  Southampton    no   True  \n",
       "887  woman       False    B  Southampton   yes   True  \n",
       "888  woman       False  NaN  Southampton    no  False  \n",
       "889    man        True    C    Cherbourg   yes   True  \n",
       "890    man        True  NaN   Queenstown    no   True  \n",
       "\n",
       "[891 rows x 15 columns]"
      ]
     },
     "execution_count": 4,
     "metadata": {},
     "output_type": "execute_result"
    }
   ],
   "source": [
    "data"
   ]
  },
  {
   "cell_type": "code",
   "execution_count": 6,
   "id": "66616609",
   "metadata": {},
   "outputs": [],
   "source": [
    "from sklearn.preprocessing import StandardScaler"
   ]
  },
  {
   "cell_type": "code",
   "execution_count": 7,
   "id": "4fa47a0f",
   "metadata": {},
   "outputs": [],
   "source": [
    "from sklearn.preprocessing import MinMaxScaler"
   ]
  },
  {
   "cell_type": "code",
   "execution_count": 8,
   "id": "a19be2b6",
   "metadata": {},
   "outputs": [
    {
     "data": {
      "text/html": [
       "<div>\n",
       "<style scoped>\n",
       "    .dataframe tbody tr th:only-of-type {\n",
       "        vertical-align: middle;\n",
       "    }\n",
       "\n",
       "    .dataframe tbody tr th {\n",
       "        vertical-align: top;\n",
       "    }\n",
       "\n",
       "    .dataframe thead th {\n",
       "        text-align: right;\n",
       "    }\n",
       "</style>\n",
       "<table border=\"1\" class=\"dataframe\">\n",
       "  <thead>\n",
       "    <tr style=\"text-align: right;\">\n",
       "      <th></th>\n",
       "      <th>survived</th>\n",
       "      <th>pclass</th>\n",
       "      <th>sex</th>\n",
       "      <th>age</th>\n",
       "      <th>sibsp</th>\n",
       "      <th>parch</th>\n",
       "      <th>fare</th>\n",
       "      <th>embarked</th>\n",
       "      <th>class</th>\n",
       "      <th>who</th>\n",
       "      <th>adult_male</th>\n",
       "      <th>deck</th>\n",
       "      <th>embark_town</th>\n",
       "      <th>alive</th>\n",
       "      <th>alone</th>\n",
       "    </tr>\n",
       "  </thead>\n",
       "  <tbody>\n",
       "    <tr>\n",
       "      <th>0</th>\n",
       "      <td>0</td>\n",
       "      <td>3</td>\n",
       "      <td>male</td>\n",
       "      <td>22.0</td>\n",
       "      <td>1</td>\n",
       "      <td>0</td>\n",
       "      <td>7.2500</td>\n",
       "      <td>S</td>\n",
       "      <td>Third</td>\n",
       "      <td>man</td>\n",
       "      <td>True</td>\n",
       "      <td>NaN</td>\n",
       "      <td>Southampton</td>\n",
       "      <td>no</td>\n",
       "      <td>False</td>\n",
       "    </tr>\n",
       "    <tr>\n",
       "      <th>1</th>\n",
       "      <td>1</td>\n",
       "      <td>1</td>\n",
       "      <td>female</td>\n",
       "      <td>38.0</td>\n",
       "      <td>1</td>\n",
       "      <td>0</td>\n",
       "      <td>71.2833</td>\n",
       "      <td>C</td>\n",
       "      <td>First</td>\n",
       "      <td>woman</td>\n",
       "      <td>False</td>\n",
       "      <td>C</td>\n",
       "      <td>Cherbourg</td>\n",
       "      <td>yes</td>\n",
       "      <td>False</td>\n",
       "    </tr>\n",
       "    <tr>\n",
       "      <th>2</th>\n",
       "      <td>1</td>\n",
       "      <td>3</td>\n",
       "      <td>female</td>\n",
       "      <td>26.0</td>\n",
       "      <td>0</td>\n",
       "      <td>0</td>\n",
       "      <td>7.9250</td>\n",
       "      <td>S</td>\n",
       "      <td>Third</td>\n",
       "      <td>woman</td>\n",
       "      <td>False</td>\n",
       "      <td>NaN</td>\n",
       "      <td>Southampton</td>\n",
       "      <td>yes</td>\n",
       "      <td>True</td>\n",
       "    </tr>\n",
       "    <tr>\n",
       "      <th>3</th>\n",
       "      <td>1</td>\n",
       "      <td>1</td>\n",
       "      <td>female</td>\n",
       "      <td>35.0</td>\n",
       "      <td>1</td>\n",
       "      <td>0</td>\n",
       "      <td>53.1000</td>\n",
       "      <td>S</td>\n",
       "      <td>First</td>\n",
       "      <td>woman</td>\n",
       "      <td>False</td>\n",
       "      <td>C</td>\n",
       "      <td>Southampton</td>\n",
       "      <td>yes</td>\n",
       "      <td>False</td>\n",
       "    </tr>\n",
       "    <tr>\n",
       "      <th>4</th>\n",
       "      <td>0</td>\n",
       "      <td>3</td>\n",
       "      <td>male</td>\n",
       "      <td>35.0</td>\n",
       "      <td>0</td>\n",
       "      <td>0</td>\n",
       "      <td>8.0500</td>\n",
       "      <td>S</td>\n",
       "      <td>Third</td>\n",
       "      <td>man</td>\n",
       "      <td>True</td>\n",
       "      <td>NaN</td>\n",
       "      <td>Southampton</td>\n",
       "      <td>no</td>\n",
       "      <td>True</td>\n",
       "    </tr>\n",
       "    <tr>\n",
       "      <th>...</th>\n",
       "      <td>...</td>\n",
       "      <td>...</td>\n",
       "      <td>...</td>\n",
       "      <td>...</td>\n",
       "      <td>...</td>\n",
       "      <td>...</td>\n",
       "      <td>...</td>\n",
       "      <td>...</td>\n",
       "      <td>...</td>\n",
       "      <td>...</td>\n",
       "      <td>...</td>\n",
       "      <td>...</td>\n",
       "      <td>...</td>\n",
       "      <td>...</td>\n",
       "      <td>...</td>\n",
       "    </tr>\n",
       "    <tr>\n",
       "      <th>886</th>\n",
       "      <td>0</td>\n",
       "      <td>2</td>\n",
       "      <td>male</td>\n",
       "      <td>27.0</td>\n",
       "      <td>0</td>\n",
       "      <td>0</td>\n",
       "      <td>13.0000</td>\n",
       "      <td>S</td>\n",
       "      <td>Second</td>\n",
       "      <td>man</td>\n",
       "      <td>True</td>\n",
       "      <td>NaN</td>\n",
       "      <td>Southampton</td>\n",
       "      <td>no</td>\n",
       "      <td>True</td>\n",
       "    </tr>\n",
       "    <tr>\n",
       "      <th>887</th>\n",
       "      <td>1</td>\n",
       "      <td>1</td>\n",
       "      <td>female</td>\n",
       "      <td>19.0</td>\n",
       "      <td>0</td>\n",
       "      <td>0</td>\n",
       "      <td>30.0000</td>\n",
       "      <td>S</td>\n",
       "      <td>First</td>\n",
       "      <td>woman</td>\n",
       "      <td>False</td>\n",
       "      <td>B</td>\n",
       "      <td>Southampton</td>\n",
       "      <td>yes</td>\n",
       "      <td>True</td>\n",
       "    </tr>\n",
       "    <tr>\n",
       "      <th>888</th>\n",
       "      <td>0</td>\n",
       "      <td>3</td>\n",
       "      <td>female</td>\n",
       "      <td>NaN</td>\n",
       "      <td>1</td>\n",
       "      <td>2</td>\n",
       "      <td>23.4500</td>\n",
       "      <td>S</td>\n",
       "      <td>Third</td>\n",
       "      <td>woman</td>\n",
       "      <td>False</td>\n",
       "      <td>NaN</td>\n",
       "      <td>Southampton</td>\n",
       "      <td>no</td>\n",
       "      <td>False</td>\n",
       "    </tr>\n",
       "    <tr>\n",
       "      <th>889</th>\n",
       "      <td>1</td>\n",
       "      <td>1</td>\n",
       "      <td>male</td>\n",
       "      <td>26.0</td>\n",
       "      <td>0</td>\n",
       "      <td>0</td>\n",
       "      <td>30.0000</td>\n",
       "      <td>C</td>\n",
       "      <td>First</td>\n",
       "      <td>man</td>\n",
       "      <td>True</td>\n",
       "      <td>C</td>\n",
       "      <td>Cherbourg</td>\n",
       "      <td>yes</td>\n",
       "      <td>True</td>\n",
       "    </tr>\n",
       "    <tr>\n",
       "      <th>890</th>\n",
       "      <td>0</td>\n",
       "      <td>3</td>\n",
       "      <td>male</td>\n",
       "      <td>32.0</td>\n",
       "      <td>0</td>\n",
       "      <td>0</td>\n",
       "      <td>7.7500</td>\n",
       "      <td>Q</td>\n",
       "      <td>Third</td>\n",
       "      <td>man</td>\n",
       "      <td>True</td>\n",
       "      <td>NaN</td>\n",
       "      <td>Queenstown</td>\n",
       "      <td>no</td>\n",
       "      <td>True</td>\n",
       "    </tr>\n",
       "  </tbody>\n",
       "</table>\n",
       "<p>891 rows × 15 columns</p>\n",
       "</div>"
      ],
      "text/plain": [
       "     survived  pclass     sex   age  sibsp  parch     fare embarked   class  \\\n",
       "0           0       3    male  22.0      1      0   7.2500        S   Third   \n",
       "1           1       1  female  38.0      1      0  71.2833        C   First   \n",
       "2           1       3  female  26.0      0      0   7.9250        S   Third   \n",
       "3           1       1  female  35.0      1      0  53.1000        S   First   \n",
       "4           0       3    male  35.0      0      0   8.0500        S   Third   \n",
       "..        ...     ...     ...   ...    ...    ...      ...      ...     ...   \n",
       "886         0       2    male  27.0      0      0  13.0000        S  Second   \n",
       "887         1       1  female  19.0      0      0  30.0000        S   First   \n",
       "888         0       3  female   NaN      1      2  23.4500        S   Third   \n",
       "889         1       1    male  26.0      0      0  30.0000        C   First   \n",
       "890         0       3    male  32.0      0      0   7.7500        Q   Third   \n",
       "\n",
       "       who  adult_male deck  embark_town alive  alone  \n",
       "0      man        True  NaN  Southampton    no  False  \n",
       "1    woman       False    C    Cherbourg   yes  False  \n",
       "2    woman       False  NaN  Southampton   yes   True  \n",
       "3    woman       False    C  Southampton   yes  False  \n",
       "4      man        True  NaN  Southampton    no   True  \n",
       "..     ...         ...  ...          ...   ...    ...  \n",
       "886    man        True  NaN  Southampton    no   True  \n",
       "887  woman       False    B  Southampton   yes   True  \n",
       "888  woman       False  NaN  Southampton    no  False  \n",
       "889    man        True    C    Cherbourg   yes   True  \n",
       "890    man        True  NaN   Queenstown    no   True  \n",
       "\n",
       "[891 rows x 15 columns]"
      ]
     },
     "execution_count": 8,
     "metadata": {},
     "output_type": "execute_result"
    }
   ],
   "source": [
    "data"
   ]
  },
  {
   "cell_type": "code",
   "execution_count": 9,
   "id": "e6fdc25e",
   "metadata": {},
   "outputs": [],
   "source": [
    "data1=data[['survived', 'pclass','age', 'parch']]"
   ]
  },
  {
   "cell_type": "code",
   "execution_count": 10,
   "id": "9b040421",
   "metadata": {},
   "outputs": [
    {
     "data": {
      "text/html": [
       "<div>\n",
       "<style scoped>\n",
       "    .dataframe tbody tr th:only-of-type {\n",
       "        vertical-align: middle;\n",
       "    }\n",
       "\n",
       "    .dataframe tbody tr th {\n",
       "        vertical-align: top;\n",
       "    }\n",
       "\n",
       "    .dataframe thead th {\n",
       "        text-align: right;\n",
       "    }\n",
       "</style>\n",
       "<table border=\"1\" class=\"dataframe\">\n",
       "  <thead>\n",
       "    <tr style=\"text-align: right;\">\n",
       "      <th></th>\n",
       "      <th>survived</th>\n",
       "      <th>pclass</th>\n",
       "      <th>age</th>\n",
       "      <th>parch</th>\n",
       "    </tr>\n",
       "  </thead>\n",
       "  <tbody>\n",
       "    <tr>\n",
       "      <th>0</th>\n",
       "      <td>0</td>\n",
       "      <td>3</td>\n",
       "      <td>22.0</td>\n",
       "      <td>0</td>\n",
       "    </tr>\n",
       "    <tr>\n",
       "      <th>1</th>\n",
       "      <td>1</td>\n",
       "      <td>1</td>\n",
       "      <td>38.0</td>\n",
       "      <td>0</td>\n",
       "    </tr>\n",
       "    <tr>\n",
       "      <th>2</th>\n",
       "      <td>1</td>\n",
       "      <td>3</td>\n",
       "      <td>26.0</td>\n",
       "      <td>0</td>\n",
       "    </tr>\n",
       "    <tr>\n",
       "      <th>3</th>\n",
       "      <td>1</td>\n",
       "      <td>1</td>\n",
       "      <td>35.0</td>\n",
       "      <td>0</td>\n",
       "    </tr>\n",
       "    <tr>\n",
       "      <th>4</th>\n",
       "      <td>0</td>\n",
       "      <td>3</td>\n",
       "      <td>35.0</td>\n",
       "      <td>0</td>\n",
       "    </tr>\n",
       "    <tr>\n",
       "      <th>...</th>\n",
       "      <td>...</td>\n",
       "      <td>...</td>\n",
       "      <td>...</td>\n",
       "      <td>...</td>\n",
       "    </tr>\n",
       "    <tr>\n",
       "      <th>886</th>\n",
       "      <td>0</td>\n",
       "      <td>2</td>\n",
       "      <td>27.0</td>\n",
       "      <td>0</td>\n",
       "    </tr>\n",
       "    <tr>\n",
       "      <th>887</th>\n",
       "      <td>1</td>\n",
       "      <td>1</td>\n",
       "      <td>19.0</td>\n",
       "      <td>0</td>\n",
       "    </tr>\n",
       "    <tr>\n",
       "      <th>888</th>\n",
       "      <td>0</td>\n",
       "      <td>3</td>\n",
       "      <td>NaN</td>\n",
       "      <td>2</td>\n",
       "    </tr>\n",
       "    <tr>\n",
       "      <th>889</th>\n",
       "      <td>1</td>\n",
       "      <td>1</td>\n",
       "      <td>26.0</td>\n",
       "      <td>0</td>\n",
       "    </tr>\n",
       "    <tr>\n",
       "      <th>890</th>\n",
       "      <td>0</td>\n",
       "      <td>3</td>\n",
       "      <td>32.0</td>\n",
       "      <td>0</td>\n",
       "    </tr>\n",
       "  </tbody>\n",
       "</table>\n",
       "<p>891 rows × 4 columns</p>\n",
       "</div>"
      ],
      "text/plain": [
       "     survived  pclass   age  parch\n",
       "0           0       3  22.0      0\n",
       "1           1       1  38.0      0\n",
       "2           1       3  26.0      0\n",
       "3           1       1  35.0      0\n",
       "4           0       3  35.0      0\n",
       "..        ...     ...   ...    ...\n",
       "886         0       2  27.0      0\n",
       "887         1       1  19.0      0\n",
       "888         0       3   NaN      2\n",
       "889         1       1  26.0      0\n",
       "890         0       3  32.0      0\n",
       "\n",
       "[891 rows x 4 columns]"
      ]
     },
     "execution_count": 10,
     "metadata": {},
     "output_type": "execute_result"
    }
   ],
   "source": [
    "data1"
   ]
  },
  {
   "cell_type": "code",
   "execution_count": 11,
   "id": "401ebfbf",
   "metadata": {},
   "outputs": [],
   "source": [
    "data2=data1.fillna(data1.mean())"
   ]
  },
  {
   "cell_type": "code",
   "execution_count": 67,
   "id": "000b6c74",
   "metadata": {},
   "outputs": [
    {
     "data": {
      "text/plain": [
       "survived    0\n",
       "pclass      0\n",
       "age         0\n",
       "parch       0\n",
       "dtype: int64"
      ]
     },
     "execution_count": 67,
     "metadata": {},
     "output_type": "execute_result"
    }
   ],
   "source": [
    "data2.isnull().sum()"
   ]
  },
  {
   "cell_type": "code",
   "execution_count": 12,
   "id": "0282e0cb",
   "metadata": {},
   "outputs": [
    {
     "data": {
      "text/html": [
       "<div>\n",
       "<style scoped>\n",
       "    .dataframe tbody tr th:only-of-type {\n",
       "        vertical-align: middle;\n",
       "    }\n",
       "\n",
       "    .dataframe tbody tr th {\n",
       "        vertical-align: top;\n",
       "    }\n",
       "\n",
       "    .dataframe thead th {\n",
       "        text-align: right;\n",
       "    }\n",
       "</style>\n",
       "<table border=\"1\" class=\"dataframe\">\n",
       "  <thead>\n",
       "    <tr style=\"text-align: right;\">\n",
       "      <th></th>\n",
       "      <th>survived</th>\n",
       "      <th>pclass</th>\n",
       "      <th>age</th>\n",
       "      <th>parch</th>\n",
       "    </tr>\n",
       "  </thead>\n",
       "  <tbody>\n",
       "    <tr>\n",
       "      <th>0</th>\n",
       "      <td>0</td>\n",
       "      <td>3</td>\n",
       "      <td>22.000000</td>\n",
       "      <td>0</td>\n",
       "    </tr>\n",
       "    <tr>\n",
       "      <th>1</th>\n",
       "      <td>1</td>\n",
       "      <td>1</td>\n",
       "      <td>38.000000</td>\n",
       "      <td>0</td>\n",
       "    </tr>\n",
       "    <tr>\n",
       "      <th>2</th>\n",
       "      <td>1</td>\n",
       "      <td>3</td>\n",
       "      <td>26.000000</td>\n",
       "      <td>0</td>\n",
       "    </tr>\n",
       "    <tr>\n",
       "      <th>3</th>\n",
       "      <td>1</td>\n",
       "      <td>1</td>\n",
       "      <td>35.000000</td>\n",
       "      <td>0</td>\n",
       "    </tr>\n",
       "    <tr>\n",
       "      <th>4</th>\n",
       "      <td>0</td>\n",
       "      <td>3</td>\n",
       "      <td>35.000000</td>\n",
       "      <td>0</td>\n",
       "    </tr>\n",
       "    <tr>\n",
       "      <th>...</th>\n",
       "      <td>...</td>\n",
       "      <td>...</td>\n",
       "      <td>...</td>\n",
       "      <td>...</td>\n",
       "    </tr>\n",
       "    <tr>\n",
       "      <th>886</th>\n",
       "      <td>0</td>\n",
       "      <td>2</td>\n",
       "      <td>27.000000</td>\n",
       "      <td>0</td>\n",
       "    </tr>\n",
       "    <tr>\n",
       "      <th>887</th>\n",
       "      <td>1</td>\n",
       "      <td>1</td>\n",
       "      <td>19.000000</td>\n",
       "      <td>0</td>\n",
       "    </tr>\n",
       "    <tr>\n",
       "      <th>888</th>\n",
       "      <td>0</td>\n",
       "      <td>3</td>\n",
       "      <td>29.699118</td>\n",
       "      <td>2</td>\n",
       "    </tr>\n",
       "    <tr>\n",
       "      <th>889</th>\n",
       "      <td>1</td>\n",
       "      <td>1</td>\n",
       "      <td>26.000000</td>\n",
       "      <td>0</td>\n",
       "    </tr>\n",
       "    <tr>\n",
       "      <th>890</th>\n",
       "      <td>0</td>\n",
       "      <td>3</td>\n",
       "      <td>32.000000</td>\n",
       "      <td>0</td>\n",
       "    </tr>\n",
       "  </tbody>\n",
       "</table>\n",
       "<p>891 rows × 4 columns</p>\n",
       "</div>"
      ],
      "text/plain": [
       "     survived  pclass        age  parch\n",
       "0           0       3  22.000000      0\n",
       "1           1       1  38.000000      0\n",
       "2           1       3  26.000000      0\n",
       "3           1       1  35.000000      0\n",
       "4           0       3  35.000000      0\n",
       "..        ...     ...        ...    ...\n",
       "886         0       2  27.000000      0\n",
       "887         1       1  19.000000      0\n",
       "888         0       3  29.699118      2\n",
       "889         1       1  26.000000      0\n",
       "890         0       3  32.000000      0\n",
       "\n",
       "[891 rows x 4 columns]"
      ]
     },
     "execution_count": 12,
     "metadata": {},
     "output_type": "execute_result"
    }
   ],
   "source": [
    "data2"
   ]
  },
  {
   "cell_type": "code",
   "execution_count": 13,
   "id": "56c64dba",
   "metadata": {},
   "outputs": [
    {
     "data": {
      "text/plain": [
       "0"
      ]
     },
     "execution_count": 13,
     "metadata": {},
     "output_type": "execute_result"
    }
   ],
   "source": [
    "data2.isnull().sum().sum()"
   ]
  },
  {
   "cell_type": "code",
   "execution_count": 17,
   "id": "5d11a0fe",
   "metadata": {},
   "outputs": [],
   "source": [
    "x=data2.drop('survived', axis=1)"
   ]
  },
  {
   "cell_type": "code",
   "execution_count": 18,
   "id": "f5345830",
   "metadata": {},
   "outputs": [
    {
     "data": {
      "text/html": [
       "<div>\n",
       "<style scoped>\n",
       "    .dataframe tbody tr th:only-of-type {\n",
       "        vertical-align: middle;\n",
       "    }\n",
       "\n",
       "    .dataframe tbody tr th {\n",
       "        vertical-align: top;\n",
       "    }\n",
       "\n",
       "    .dataframe thead th {\n",
       "        text-align: right;\n",
       "    }\n",
       "</style>\n",
       "<table border=\"1\" class=\"dataframe\">\n",
       "  <thead>\n",
       "    <tr style=\"text-align: right;\">\n",
       "      <th></th>\n",
       "      <th>pclass</th>\n",
       "      <th>age</th>\n",
       "      <th>parch</th>\n",
       "    </tr>\n",
       "  </thead>\n",
       "  <tbody>\n",
       "    <tr>\n",
       "      <th>0</th>\n",
       "      <td>3</td>\n",
       "      <td>22.000000</td>\n",
       "      <td>0</td>\n",
       "    </tr>\n",
       "    <tr>\n",
       "      <th>1</th>\n",
       "      <td>1</td>\n",
       "      <td>38.000000</td>\n",
       "      <td>0</td>\n",
       "    </tr>\n",
       "    <tr>\n",
       "      <th>2</th>\n",
       "      <td>3</td>\n",
       "      <td>26.000000</td>\n",
       "      <td>0</td>\n",
       "    </tr>\n",
       "    <tr>\n",
       "      <th>3</th>\n",
       "      <td>1</td>\n",
       "      <td>35.000000</td>\n",
       "      <td>0</td>\n",
       "    </tr>\n",
       "    <tr>\n",
       "      <th>4</th>\n",
       "      <td>3</td>\n",
       "      <td>35.000000</td>\n",
       "      <td>0</td>\n",
       "    </tr>\n",
       "    <tr>\n",
       "      <th>...</th>\n",
       "      <td>...</td>\n",
       "      <td>...</td>\n",
       "      <td>...</td>\n",
       "    </tr>\n",
       "    <tr>\n",
       "      <th>886</th>\n",
       "      <td>2</td>\n",
       "      <td>27.000000</td>\n",
       "      <td>0</td>\n",
       "    </tr>\n",
       "    <tr>\n",
       "      <th>887</th>\n",
       "      <td>1</td>\n",
       "      <td>19.000000</td>\n",
       "      <td>0</td>\n",
       "    </tr>\n",
       "    <tr>\n",
       "      <th>888</th>\n",
       "      <td>3</td>\n",
       "      <td>29.699118</td>\n",
       "      <td>2</td>\n",
       "    </tr>\n",
       "    <tr>\n",
       "      <th>889</th>\n",
       "      <td>1</td>\n",
       "      <td>26.000000</td>\n",
       "      <td>0</td>\n",
       "    </tr>\n",
       "    <tr>\n",
       "      <th>890</th>\n",
       "      <td>3</td>\n",
       "      <td>32.000000</td>\n",
       "      <td>0</td>\n",
       "    </tr>\n",
       "  </tbody>\n",
       "</table>\n",
       "<p>891 rows × 3 columns</p>\n",
       "</div>"
      ],
      "text/plain": [
       "     pclass        age  parch\n",
       "0         3  22.000000      0\n",
       "1         1  38.000000      0\n",
       "2         3  26.000000      0\n",
       "3         1  35.000000      0\n",
       "4         3  35.000000      0\n",
       "..      ...        ...    ...\n",
       "886       2  27.000000      0\n",
       "887       1  19.000000      0\n",
       "888       3  29.699118      2\n",
       "889       1  26.000000      0\n",
       "890       3  32.000000      0\n",
       "\n",
       "[891 rows x 3 columns]"
      ]
     },
     "execution_count": 18,
     "metadata": {},
     "output_type": "execute_result"
    }
   ],
   "source": [
    "x"
   ]
  },
  {
   "cell_type": "code",
   "execution_count": 19,
   "id": "91bbad16",
   "metadata": {},
   "outputs": [],
   "source": [
    "y=data2['survived']"
   ]
  },
  {
   "cell_type": "code",
   "execution_count": 20,
   "id": "3d7cd135",
   "metadata": {},
   "outputs": [
    {
     "data": {
      "text/plain": [
       "0      0\n",
       "1      1\n",
       "2      1\n",
       "3      1\n",
       "4      0\n",
       "      ..\n",
       "886    0\n",
       "887    1\n",
       "888    0\n",
       "889    1\n",
       "890    0\n",
       "Name: survived, Length: 891, dtype: int64"
      ]
     },
     "execution_count": 20,
     "metadata": {},
     "output_type": "execute_result"
    }
   ],
   "source": [
    "y"
   ]
  },
  {
   "cell_type": "code",
   "execution_count": 21,
   "id": "48c9c758",
   "metadata": {},
   "outputs": [],
   "source": [
    "from sklearn.model_selection import train_test_split"
   ]
  },
  {
   "cell_type": "code",
   "execution_count": 22,
   "id": "80f42154",
   "metadata": {},
   "outputs": [
    {
     "name": "stdout",
     "output_type": "stream",
     "text": [
      "Shape of X= (891, 3)\n",
      "Shape of y= (891,)\n"
     ]
    }
   ],
   "source": [
    "print('Shape of X=',x.shape)\n",
    "print('Shape of y=', y.shape)"
   ]
  },
  {
   "cell_type": "code",
   "execution_count": null,
   "id": "83edc77e",
   "metadata": {},
   "outputs": [],
   "source": []
  },
  {
   "cell_type": "code",
   "execution_count": 23,
   "id": "b2920351",
   "metadata": {},
   "outputs": [],
   "source": [
    "x_train, x_test, y_train, y_test=train_test_split(x, y , test_size=0.2, random_state=51)"
   ]
  },
  {
   "cell_type": "code",
   "execution_count": 25,
   "id": "458f7bd6",
   "metadata": {},
   "outputs": [
    {
     "name": "stdout",
     "output_type": "stream",
     "text": [
      "Shape of x_train= (712, 3)\n",
      "Shape of x_test= (179, 3)\n",
      "Shape of y_train= (712,)\n",
      "Shape of y_test= (179,)\n"
     ]
    }
   ],
   "source": [
    "print('Shape of x_train=', x_train.shape)\n",
    "print('Shape of x_test=', x_test.shape)\n",
    "print('Shape of y_train=', y_train.shape)\n",
    "print('Shape of y_test=',y_test.shape)"
   ]
  },
  {
   "cell_type": "code",
   "execution_count": 29,
   "id": "eea670c3",
   "metadata": {},
   "outputs": [],
   "source": [
    "#usind standscalar\n",
    "from sklearn.preprocessing import StandardScaler"
   ]
  },
  {
   "cell_type": "code",
   "execution_count": 30,
   "id": "88c17ae6",
   "metadata": {},
   "outputs": [],
   "source": [
    "from sklearn.preprocessing import MinMaxScaler"
   ]
  },
  {
   "cell_type": "code",
   "execution_count": 66,
   "id": "97f9dcc6",
   "metadata": {},
   "outputs": [
    {
     "data": {
      "text/plain": [
       "StandardScaler()"
      ]
     },
     "execution_count": 66,
     "metadata": {},
     "output_type": "execute_result"
    }
   ],
   "source": [
    "sc=StandardScaler()\n",
    "sc.fit(x_train)"
   ]
  },
  {
   "cell_type": "code",
   "execution_count": 32,
   "id": "b703f832",
   "metadata": {},
   "outputs": [
    {
     "data": {
      "text/plain": [
       "<bound method StandardScaler.fit of StandardScaler()>"
      ]
     },
     "execution_count": 32,
     "metadata": {},
     "output_type": "execute_result"
    }
   ],
   "source": [
    "sc.fit"
   ]
  },
  {
   "cell_type": "code",
   "execution_count": 34,
   "id": "377f2523",
   "metadata": {},
   "outputs": [
    {
     "data": {
      "text/plain": [
       "array([ 2.30617978, 29.55409121,  0.39185393])"
      ]
     },
     "execution_count": 34,
     "metadata": {},
     "output_type": "execute_result"
    }
   ],
   "source": [
    " sc.mean_"
   ]
  },
  {
   "cell_type": "code",
   "execution_count": 35,
   "id": "752f8f46",
   "metadata": {},
   "outputs": [
    {
     "data": {
      "text/plain": [
       "array([ 0.84405789, 12.99162985,  0.79647463])"
      ]
     },
     "execution_count": 35,
     "metadata": {},
     "output_type": "execute_result"
    }
   ],
   "source": [
    "sc.scale_"
   ]
  },
  {
   "cell_type": "code",
   "execution_count": 37,
   "id": "76c7f6a4",
   "metadata": {},
   "outputs": [
    {
     "data": {
      "text/html": [
       "<div>\n",
       "<style scoped>\n",
       "    .dataframe tbody tr th:only-of-type {\n",
       "        vertical-align: middle;\n",
       "    }\n",
       "\n",
       "    .dataframe tbody tr th {\n",
       "        vertical-align: top;\n",
       "    }\n",
       "\n",
       "    .dataframe thead th {\n",
       "        text-align: right;\n",
       "    }\n",
       "</style>\n",
       "<table border=\"1\" class=\"dataframe\">\n",
       "  <thead>\n",
       "    <tr style=\"text-align: right;\">\n",
       "      <th></th>\n",
       "      <th>pclass</th>\n",
       "      <th>age</th>\n",
       "      <th>parch</th>\n",
       "    </tr>\n",
       "  </thead>\n",
       "  <tbody>\n",
       "    <tr>\n",
       "      <th>count</th>\n",
       "      <td>712.000000</td>\n",
       "      <td>712.000000</td>\n",
       "      <td>712.000000</td>\n",
       "    </tr>\n",
       "    <tr>\n",
       "      <th>mean</th>\n",
       "      <td>2.306180</td>\n",
       "      <td>29.554091</td>\n",
       "      <td>0.391854</td>\n",
       "    </tr>\n",
       "    <tr>\n",
       "      <th>std</th>\n",
       "      <td>0.844651</td>\n",
       "      <td>13.000763</td>\n",
       "      <td>0.797035</td>\n",
       "    </tr>\n",
       "    <tr>\n",
       "      <th>min</th>\n",
       "      <td>1.000000</td>\n",
       "      <td>0.420000</td>\n",
       "      <td>0.000000</td>\n",
       "    </tr>\n",
       "    <tr>\n",
       "      <th>25%</th>\n",
       "      <td>1.750000</td>\n",
       "      <td>22.000000</td>\n",
       "      <td>0.000000</td>\n",
       "    </tr>\n",
       "    <tr>\n",
       "      <th>50%</th>\n",
       "      <td>3.000000</td>\n",
       "      <td>29.699118</td>\n",
       "      <td>0.000000</td>\n",
       "    </tr>\n",
       "    <tr>\n",
       "      <th>75%</th>\n",
       "      <td>3.000000</td>\n",
       "      <td>35.000000</td>\n",
       "      <td>0.000000</td>\n",
       "    </tr>\n",
       "    <tr>\n",
       "      <th>max</th>\n",
       "      <td>3.000000</td>\n",
       "      <td>71.000000</td>\n",
       "      <td>5.000000</td>\n",
       "    </tr>\n",
       "  </tbody>\n",
       "</table>\n",
       "</div>"
      ],
      "text/plain": [
       "           pclass         age       parch\n",
       "count  712.000000  712.000000  712.000000\n",
       "mean     2.306180   29.554091    0.391854\n",
       "std      0.844651   13.000763    0.797035\n",
       "min      1.000000    0.420000    0.000000\n",
       "25%      1.750000   22.000000    0.000000\n",
       "50%      3.000000   29.699118    0.000000\n",
       "75%      3.000000   35.000000    0.000000\n",
       "max      3.000000   71.000000    5.000000"
      ]
     },
     "execution_count": 37,
     "metadata": {},
     "output_type": "execute_result"
    }
   ],
   "source": [
    "x_train.describe()"
   ]
  },
  {
   "cell_type": "code",
   "execution_count": 57,
   "id": "f4b4d9bd",
   "metadata": {},
   "outputs": [],
   "source": [
    "#whatever we got the result that we need to convert it into the datasets\n",
    "x_train=sc.transform(x_train)\n",
    "x_test=sc.transform(x_test)"
   ]
  },
  {
   "cell_type": "code",
   "execution_count": 60,
   "id": "fc5631fe",
   "metadata": {},
   "outputs": [
    {
     "data": {
      "text/plain": [
       "array([[-4.8154985 , -2.45249093, -1.88523673],\n",
       "       [-4.8154985 , -2.43812546, -1.88523673],\n",
       "       [-4.8154985 , -2.45841953, -1.88523673],\n",
       "       ...,\n",
       "       [-4.8154985 , -2.44154581,  4.05228766],\n",
       "       [-4.8154985 , -2.44989186,  0.09393806],\n",
       "       [-4.8154985 , -2.45043872, -1.88523673]])"
      ]
     },
     "execution_count": 60,
     "metadata": {},
     "output_type": "execute_result"
    }
   ],
   "source": [
    "x_train"
   ]
  },
  {
   "cell_type": "code",
   "execution_count": 61,
   "id": "cc9f2f39",
   "metadata": {},
   "outputs": [
    {
     "data": {
      "text/plain": [
       "array([[-8.14142996, -2.44519418, -1.88523673],\n",
       "       [-4.8154985 , -2.44884255, -1.88523673],\n",
       "       [-4.8154985 , -2.44975465, -1.88523673],\n",
       "       [-8.14142996, -2.44989186, -1.88523673],\n",
       "       [-6.47846423, -2.44793046,  0.09393806],\n",
       "       [-4.8154985 , -2.44884255, -1.88523673],\n",
       "       [-8.14142996, -2.44200186, -1.88523673],\n",
       "       [-4.8154985 , -2.4561393 , -1.88523673],\n",
       "       [-6.47846423, -2.43333698, -1.88523673],\n",
       "       [-8.14142996, -2.45659534,  0.09393806],\n",
       "       [-6.47846423, -2.4492986 , -1.88523673],\n",
       "       [-6.47846423, -2.45066674, -1.88523673],\n",
       "       [-8.14142996, -2.44291395, -1.88523673],\n",
       "       [-4.8154985 , -2.45294697, -1.88523673],\n",
       "       [-4.8154985 , -2.44473814,  8.01063725],\n",
       "       [-6.47846423, -2.45203488, -1.88523673],\n",
       "       [-6.47846423, -2.44701837,  2.07311286],\n",
       "       [-4.8154985 , -2.44989186, -1.88523673],\n",
       "       [-4.8154985 , -2.44989186, -1.88523673],\n",
       "       [-6.47846423, -2.45477116, -1.88523673],\n",
       "       [-4.8154985 , -2.44989186, -1.88523673],\n",
       "       [-6.47846423, -2.45522721, -1.88523673],\n",
       "       [-4.8154985 , -2.45385907, -1.88523673],\n",
       "       [-8.14142996, -2.4492986 , -1.88523673],\n",
       "       [-4.8154985 , -2.45568325, -1.88523673],\n",
       "       [-8.14142996, -2.45249093, -1.88523673],\n",
       "       [-4.8154985 , -2.44473814, -1.88523673],\n",
       "       [-8.14142996, -2.44989186, -1.88523673],\n",
       "       [-4.8154985 , -2.44747442,  0.09393806],\n",
       "       [-8.14142996, -2.4561393 ,  0.09393806],\n",
       "       [-4.8154985 , -2.44989186, -1.88523673],\n",
       "       [-8.14142996, -2.43698535,  2.07311286],\n",
       "       [-8.14142996, -2.44200186, -1.88523673],\n",
       "       [-4.8154985 , -2.4492986 , -1.88523673],\n",
       "       [-6.47846423, -2.44793046, -1.88523673],\n",
       "       [-6.47846423, -2.44989186, -1.88523673],\n",
       "       [-6.47846423, -2.44884255, -1.88523673],\n",
       "       [-4.8154985 , -2.44975465, -1.88523673],\n",
       "       [-6.47846423, -2.45340302,  0.09393806],\n",
       "       [-4.8154985 , -2.4296886 , -1.88523673],\n",
       "       [-6.47846423, -2.45066674, -1.88523673],\n",
       "       [-4.8154985 , -2.45385907, -1.88523673],\n",
       "       [-4.8154985 , -2.44496616, -1.88523673],\n",
       "       [-6.47846423, -2.46115581,  2.07311286],\n",
       "       [-4.8154985 , -2.46161186,  2.07311286],\n",
       "       [-6.47846423, -2.44701837, -1.88523673],\n",
       "       [-6.47846423, -2.45021069, -1.88523673],\n",
       "       [-4.8154985 , -2.4561393 , -1.88523673],\n",
       "       [-8.14142996, -2.45066674, -1.88523673],\n",
       "       [-4.8154985 , -2.45203488, -1.88523673],\n",
       "       [-4.8154985 , -2.44989186, -1.88523673],\n",
       "       [-8.14142996, -2.44701837, -1.88523673],\n",
       "       [-4.8154985 , -2.44017767, -1.88523673],\n",
       "       [-4.8154985 , -2.44989186, -1.88523673],\n",
       "       [-6.47846423, -2.45249093, -1.88523673],\n",
       "       [-8.14142996, -2.44063372, -1.88523673],\n",
       "       [-8.14142996, -2.45157883, -1.88523673],\n",
       "       [-4.8154985 , -2.44428209, -1.88523673],\n",
       "       [-4.8154985 , -2.45705139, -1.88523673],\n",
       "       [-4.8154985 , -2.45385907, -1.88523673],\n",
       "       [-4.8154985 , -2.44291395, -1.88523673],\n",
       "       [-4.8154985 , -2.44291395, -1.88523673],\n",
       "       [-8.14142996, -2.44428209, -1.88523673],\n",
       "       [-4.8154985 , -2.45021069, -1.88523673],\n",
       "       [-4.8154985 , -2.45066674, -1.88523673],\n",
       "       [-4.8154985 , -2.4561393 , -1.88523673],\n",
       "       [-6.47846423, -2.45294697, -1.88523673],\n",
       "       [-4.8154985 , -2.45705139,  0.09393806],\n",
       "       [-6.47846423, -2.44428209, -1.88523673],\n",
       "       [-6.47846423, -2.45112279, -1.88523673],\n",
       "       [-8.14142996, -2.44884255, -1.88523673],\n",
       "       [-4.8154985 , -2.45522721, -1.88523673],\n",
       "       [-6.47846423, -2.4620679 ,  0.09393806],\n",
       "       [-4.8154985 , -2.44989186, -1.88523673],\n",
       "       [-8.14142996, -2.43789744, -1.88523673],\n",
       "       [-6.47846423, -2.46252395,  0.09393806],\n",
       "       [-6.47846423, -2.45066674, -1.88523673],\n",
       "       [-8.14142996, -2.44610628, -1.88523673],\n",
       "       [-4.8154985 , -2.44989186, -1.88523673],\n",
       "       [-4.8154985 , -2.44989186, -1.88523673],\n",
       "       [-6.47846423, -2.45522721, -1.88523673],\n",
       "       [-4.8154985 , -2.45066674, -1.88523673],\n",
       "       [-6.47846423, -2.44975465, -1.88523673],\n",
       "       [-8.14142996, -2.44975465, -1.88523673],\n",
       "       [-6.47846423, -2.4424579 , -1.88523673],\n",
       "       [-4.8154985 , -2.45933162,  0.09393806],\n",
       "       [-8.14142996, -2.44519418, -1.88523673],\n",
       "       [-4.8154985 , -2.44989186, -1.88523673],\n",
       "       [-4.8154985 , -2.46252395,  2.07311286],\n",
       "       [-4.8154985 , -2.44989186, -1.88523673],\n",
       "       [-4.8154985 , -2.44382604, -1.88523673],\n",
       "       [-6.47846423, -2.43880953, -1.88523673],\n",
       "       [-4.8154985 , -2.44989186, -1.88523673],\n",
       "       [-6.47846423, -2.45203488,  0.09393806],\n",
       "       [-8.14142996, -2.4492986 , -1.88523673],\n",
       "       [-4.8154985 , -2.44989186, -1.88523673],\n",
       "       [-6.47846423, -2.45021069, -1.88523673],\n",
       "       [-4.8154985 , -2.4561393 ,  0.09393806],\n",
       "       [-8.14142996, -2.45021069, -1.88523673],\n",
       "       [-4.8154985 , -2.44428209,  0.09393806],\n",
       "       [-6.47846423, -2.43516116, -1.88523673],\n",
       "       [-4.8154985 , -2.44989186,  0.09393806],\n",
       "       [-4.8154985 , -2.44838651, -1.88523673],\n",
       "       [-6.47846423, -2.45112279, -1.88523673],\n",
       "       [-4.8154985 , -2.44989186, -1.88523673],\n",
       "       [-4.8154985 , -2.44382604,  9.98981204],\n",
       "       [-4.8154985 , -2.4492986 , -1.88523673],\n",
       "       [-4.8154985 , -2.45203488, -1.88523673],\n",
       "       [-4.8154985 , -2.44701837,  0.09393806],\n",
       "       [-4.8154985 , -2.44884255, -1.88523673],\n",
       "       [-4.8154985 , -2.44989186, -1.88523673],\n",
       "       [-6.47846423, -2.45203488,  2.07311286],\n",
       "       [-8.14142996, -2.42695233, -1.88523673],\n",
       "       [-4.8154985 , -2.44747442, -1.88523673],\n",
       "       [-6.47846423, -2.45477116, -1.88523673],\n",
       "       [-4.8154985 , -2.44884255, -1.88523673],\n",
       "       [-6.47846423, -2.45568325, -1.88523673],\n",
       "       [-8.14142996, -2.43424907,  6.03146245],\n",
       "       [-4.8154985 , -2.45477116, -1.88523673],\n",
       "       [-4.8154985 , -2.45682337, -1.88523673],\n",
       "       [-4.8154985 , -2.44428209, -1.88523673],\n",
       "       [-8.14142996, -2.43516116, -1.88523673],\n",
       "       [-4.8154985 , -2.44989186, -1.88523673],\n",
       "       [-4.8154985 , -2.45477116, -1.88523673],\n",
       "       [-6.47846423, -2.45157883,  0.09393806],\n",
       "       [-4.8154985 , -2.4561393 , -1.88523673],\n",
       "       [-4.8154985 , -2.45066674, -1.88523673],\n",
       "       [-8.14142996, -2.44337   ,  0.09393806],\n",
       "       [-4.8154985 , -2.44989186, -1.88523673],\n",
       "       [-4.8154985 , -2.44989186, -1.88523673],\n",
       "       [-6.47846423, -2.44975465, -1.88523673],\n",
       "       [-4.8154985 , -2.45157883, -1.88523673],\n",
       "       [-4.8154985 , -2.44701837, -1.88523673],\n",
       "       [-8.14142996, -2.43607325, -1.88523673],\n",
       "       [-4.8154985 , -2.45522721, -1.88523673],\n",
       "       [-4.8154985 , -2.44989186, -1.88523673],\n",
       "       [-6.47846423, -2.44989186, -1.88523673],\n",
       "       [-4.8154985 , -2.4561393 ,  0.09393806],\n",
       "       [-6.47846423, -2.46305752,  2.07311286],\n",
       "       [-4.8154985 , -2.44989186, -1.88523673],\n",
       "       [-8.14142996, -2.45340302, -1.88523673],\n",
       "       [-6.47846423, -2.45021069, -1.88523673],\n",
       "       [-8.14142996, -2.44268593, -1.88523673],\n",
       "       [-6.47846423, -2.44793046, -1.88523673],\n",
       "       [-4.8154985 , -2.45568325,  0.09393806],\n",
       "       [-4.8154985 , -2.44838651,  0.09393806],\n",
       "       [-4.8154985 , -2.45112279, -1.88523673],\n",
       "       [-6.47846423, -2.44747442, -1.88523673],\n",
       "       [-4.8154985 , -2.44989186, -1.88523673],\n",
       "       [-4.8154985 , -2.44989186, -1.88523673],\n",
       "       [-4.8154985 , -2.44989186, -1.88523673],\n",
       "       [-8.14142996, -2.43880953,  0.09393806],\n",
       "       [-4.8154985 , -2.45933162,  2.07311286],\n",
       "       [-8.14142996, -2.45385907,  2.07311286],\n",
       "       [-4.8154985 , -2.45066674,  0.09393806],\n",
       "       [-4.8154985 , -2.44989186, -1.88523673],\n",
       "       [-4.8154985 , -2.4561393 , -1.88523673],\n",
       "       [-6.47846423, -2.45385907, -1.88523673],\n",
       "       [-4.8154985 , -2.44989186,  0.09393806],\n",
       "       [-4.8154985 , -2.45933162,  2.07311286],\n",
       "       [-4.8154985 , -2.44656232, -1.88523673],\n",
       "       [-8.14142996, -2.46252395,  2.07311286],\n",
       "       [-4.8154985 , -2.45477116, -1.88523673],\n",
       "       [-6.47846423, -2.44337   , -1.88523673],\n",
       "       [-8.14142996, -2.45477116, -1.88523673],\n",
       "       [-4.8154985 , -2.45066674, -1.88523673],\n",
       "       [-4.8154985 , -2.45021069, -1.88523673],\n",
       "       [-6.47846423, -2.44793046, -1.88523673],\n",
       "       [-6.47846423, -2.44701837, -1.88523673],\n",
       "       [-4.8154985 , -2.45385907, -1.88523673],\n",
       "       [-4.8154985 , -2.44989186, -1.88523673],\n",
       "       [-8.14142996, -2.44989186, -1.88523673],\n",
       "       [-8.14142996, -2.43835349, -1.88523673],\n",
       "       [-4.8154985 , -2.4492986 , -1.88523673],\n",
       "       [-4.8154985 , -2.44989186,  2.07311286],\n",
       "       [-4.8154985 , -2.45157883, -1.88523673],\n",
       "       [-6.47846423, -2.45249093, -1.88523673],\n",
       "       [-8.14142996, -2.4492986 , -1.88523673],\n",
       "       [-8.14142996, -2.44656232, -1.88523673]])"
      ]
     },
     "execution_count": 61,
     "metadata": {},
     "output_type": "execute_result"
    }
   ],
   "source": [
    "x_test"
   ]
  },
  {
   "cell_type": "code",
   "execution_count": 62,
   "id": "8d6d4d39",
   "metadata": {},
   "outputs": [],
   "source": [
    "x_train=pd.DataFrame(x_train,columns=['pclass', 'age', 'parch'])"
   ]
  },
  {
   "cell_type": "code",
   "execution_count": 63,
   "id": "b9ac57e1",
   "metadata": {},
   "outputs": [
    {
     "data": {
      "text/html": [
       "<div>\n",
       "<style scoped>\n",
       "    .dataframe tbody tr th:only-of-type {\n",
       "        vertical-align: middle;\n",
       "    }\n",
       "\n",
       "    .dataframe tbody tr th {\n",
       "        vertical-align: top;\n",
       "    }\n",
       "\n",
       "    .dataframe thead th {\n",
       "        text-align: right;\n",
       "    }\n",
       "</style>\n",
       "<table border=\"1\" class=\"dataframe\">\n",
       "  <thead>\n",
       "    <tr style=\"text-align: right;\">\n",
       "      <th></th>\n",
       "      <th>pclass</th>\n",
       "      <th>age</th>\n",
       "      <th>parch</th>\n",
       "    </tr>\n",
       "  </thead>\n",
       "  <tbody>\n",
       "    <tr>\n",
       "      <th>0</th>\n",
       "      <td>-4.815498</td>\n",
       "      <td>-2.452491</td>\n",
       "      <td>-1.885237</td>\n",
       "    </tr>\n",
       "    <tr>\n",
       "      <th>1</th>\n",
       "      <td>-4.815498</td>\n",
       "      <td>-2.438125</td>\n",
       "      <td>-1.885237</td>\n",
       "    </tr>\n",
       "    <tr>\n",
       "      <th>2</th>\n",
       "      <td>-4.815498</td>\n",
       "      <td>-2.458420</td>\n",
       "      <td>-1.885237</td>\n",
       "    </tr>\n",
       "    <tr>\n",
       "      <th>3</th>\n",
       "      <td>-4.815498</td>\n",
       "      <td>-2.455227</td>\n",
       "      <td>-1.885237</td>\n",
       "    </tr>\n",
       "    <tr>\n",
       "      <th>4</th>\n",
       "      <td>-4.815498</td>\n",
       "      <td>-2.449892</td>\n",
       "      <td>2.073113</td>\n",
       "    </tr>\n",
       "    <tr>\n",
       "      <th>...</th>\n",
       "      <td>...</td>\n",
       "      <td>...</td>\n",
       "      <td>...</td>\n",
       "    </tr>\n",
       "    <tr>\n",
       "      <th>707</th>\n",
       "      <td>-4.815498</td>\n",
       "      <td>-2.445650</td>\n",
       "      <td>-1.885237</td>\n",
       "    </tr>\n",
       "    <tr>\n",
       "      <th>708</th>\n",
       "      <td>-4.815498</td>\n",
       "      <td>-2.449892</td>\n",
       "      <td>0.093938</td>\n",
       "    </tr>\n",
       "    <tr>\n",
       "      <th>709</th>\n",
       "      <td>-4.815498</td>\n",
       "      <td>-2.441546</td>\n",
       "      <td>4.052288</td>\n",
       "    </tr>\n",
       "    <tr>\n",
       "      <th>710</th>\n",
       "      <td>-4.815498</td>\n",
       "      <td>-2.449892</td>\n",
       "      <td>0.093938</td>\n",
       "    </tr>\n",
       "    <tr>\n",
       "      <th>711</th>\n",
       "      <td>-4.815498</td>\n",
       "      <td>-2.450439</td>\n",
       "      <td>-1.885237</td>\n",
       "    </tr>\n",
       "  </tbody>\n",
       "</table>\n",
       "<p>712 rows × 3 columns</p>\n",
       "</div>"
      ],
      "text/plain": [
       "       pclass       age     parch\n",
       "0   -4.815498 -2.452491 -1.885237\n",
       "1   -4.815498 -2.438125 -1.885237\n",
       "2   -4.815498 -2.458420 -1.885237\n",
       "3   -4.815498 -2.455227 -1.885237\n",
       "4   -4.815498 -2.449892  2.073113\n",
       "..        ...       ...       ...\n",
       "707 -4.815498 -2.445650 -1.885237\n",
       "708 -4.815498 -2.449892  0.093938\n",
       "709 -4.815498 -2.441546  4.052288\n",
       "710 -4.815498 -2.449892  0.093938\n",
       "711 -4.815498 -2.450439 -1.885237\n",
       "\n",
       "[712 rows x 3 columns]"
      ]
     },
     "execution_count": 63,
     "metadata": {},
     "output_type": "execute_result"
    }
   ],
   "source": [
    "x_train"
   ]
  },
  {
   "cell_type": "code",
   "execution_count": 64,
   "id": "dce51eb6",
   "metadata": {},
   "outputs": [
    {
     "data": {
      "text/html": [
       "<div>\n",
       "<style scoped>\n",
       "    .dataframe tbody tr th:only-of-type {\n",
       "        vertical-align: middle;\n",
       "    }\n",
       "\n",
       "    .dataframe tbody tr th {\n",
       "        vertical-align: top;\n",
       "    }\n",
       "\n",
       "    .dataframe thead th {\n",
       "        text-align: right;\n",
       "    }\n",
       "</style>\n",
       "<table border=\"1\" class=\"dataframe\">\n",
       "  <thead>\n",
       "    <tr style=\"text-align: right;\">\n",
       "      <th></th>\n",
       "      <th>pclass</th>\n",
       "      <th>age</th>\n",
       "      <th>parch</th>\n",
       "    </tr>\n",
       "  </thead>\n",
       "  <tbody>\n",
       "    <tr>\n",
       "      <th>count</th>\n",
       "      <td>712.000000</td>\n",
       "      <td>712.000000</td>\n",
       "      <td>712.000000</td>\n",
       "    </tr>\n",
       "    <tr>\n",
       "      <th>mean</th>\n",
       "      <td>-5.969298</td>\n",
       "      <td>-2.449958</td>\n",
       "      <td>-1.109689</td>\n",
       "    </tr>\n",
       "    <tr>\n",
       "      <th>std</th>\n",
       "      <td>1.404626</td>\n",
       "      <td>0.005929</td>\n",
       "      <td>1.577471</td>\n",
       "    </tr>\n",
       "    <tr>\n",
       "      <th>min</th>\n",
       "      <td>-8.141430</td>\n",
       "      <td>-2.463245</td>\n",
       "      <td>-1.885237</td>\n",
       "    </tr>\n",
       "    <tr>\n",
       "      <th>25%</th>\n",
       "      <td>-6.894206</td>\n",
       "      <td>-2.453403</td>\n",
       "      <td>-1.885237</td>\n",
       "    </tr>\n",
       "    <tr>\n",
       "      <th>50%</th>\n",
       "      <td>-4.815498</td>\n",
       "      <td>-2.449892</td>\n",
       "      <td>-1.885237</td>\n",
       "    </tr>\n",
       "    <tr>\n",
       "      <th>75%</th>\n",
       "      <td>-4.815498</td>\n",
       "      <td>-2.447474</td>\n",
       "      <td>-1.885237</td>\n",
       "    </tr>\n",
       "    <tr>\n",
       "      <th>max</th>\n",
       "      <td>-4.815498</td>\n",
       "      <td>-2.431057</td>\n",
       "      <td>8.010637</td>\n",
       "    </tr>\n",
       "  </tbody>\n",
       "</table>\n",
       "</div>"
      ],
      "text/plain": [
       "           pclass         age       parch\n",
       "count  712.000000  712.000000  712.000000\n",
       "mean    -5.969298   -2.449958   -1.109689\n",
       "std      1.404626    0.005929    1.577471\n",
       "min     -8.141430   -2.463245   -1.885237\n",
       "25%     -6.894206   -2.453403   -1.885237\n",
       "50%     -4.815498   -2.449892   -1.885237\n",
       "75%     -4.815498   -2.447474   -1.885237\n",
       "max     -4.815498   -2.431057    8.010637"
      ]
     },
     "execution_count": 64,
     "metadata": {},
     "output_type": "execute_result"
    }
   ],
   "source": [
    "x_train.describe()"
   ]
  },
  {
   "cell_type": "code",
   "execution_count": 65,
   "id": "3851aadd",
   "metadata": {},
   "outputs": [
    {
     "data": {
      "text/html": [
       "<div>\n",
       "<style scoped>\n",
       "    .dataframe tbody tr th:only-of-type {\n",
       "        vertical-align: middle;\n",
       "    }\n",
       "\n",
       "    .dataframe tbody tr th {\n",
       "        vertical-align: top;\n",
       "    }\n",
       "\n",
       "    .dataframe thead th {\n",
       "        text-align: right;\n",
       "    }\n",
       "</style>\n",
       "<table border=\"1\" class=\"dataframe\">\n",
       "  <thead>\n",
       "    <tr style=\"text-align: right;\">\n",
       "      <th></th>\n",
       "      <th>pclass</th>\n",
       "      <th>age</th>\n",
       "      <th>parch</th>\n",
       "    </tr>\n",
       "  </thead>\n",
       "  <tbody>\n",
       "    <tr>\n",
       "      <th>count</th>\n",
       "      <td>712.00</td>\n",
       "      <td>712.00</td>\n",
       "      <td>712.00</td>\n",
       "    </tr>\n",
       "    <tr>\n",
       "      <th>mean</th>\n",
       "      <td>-5.97</td>\n",
       "      <td>-2.45</td>\n",
       "      <td>-1.11</td>\n",
       "    </tr>\n",
       "    <tr>\n",
       "      <th>std</th>\n",
       "      <td>1.40</td>\n",
       "      <td>0.01</td>\n",
       "      <td>1.58</td>\n",
       "    </tr>\n",
       "    <tr>\n",
       "      <th>min</th>\n",
       "      <td>-8.14</td>\n",
       "      <td>-2.46</td>\n",
       "      <td>-1.89</td>\n",
       "    </tr>\n",
       "    <tr>\n",
       "      <th>25%</th>\n",
       "      <td>-6.89</td>\n",
       "      <td>-2.45</td>\n",
       "      <td>-1.89</td>\n",
       "    </tr>\n",
       "    <tr>\n",
       "      <th>50%</th>\n",
       "      <td>-4.82</td>\n",
       "      <td>-2.45</td>\n",
       "      <td>-1.89</td>\n",
       "    </tr>\n",
       "    <tr>\n",
       "      <th>75%</th>\n",
       "      <td>-4.82</td>\n",
       "      <td>-2.45</td>\n",
       "      <td>-1.89</td>\n",
       "    </tr>\n",
       "    <tr>\n",
       "      <th>max</th>\n",
       "      <td>-4.82</td>\n",
       "      <td>-2.43</td>\n",
       "      <td>8.01</td>\n",
       "    </tr>\n",
       "  </tbody>\n",
       "</table>\n",
       "</div>"
      ],
      "text/plain": [
       "       pclass     age   parch\n",
       "count  712.00  712.00  712.00\n",
       "mean    -5.97   -2.45   -1.11\n",
       "std      1.40    0.01    1.58\n",
       "min     -8.14   -2.46   -1.89\n",
       "25%     -6.89   -2.45   -1.89\n",
       "50%     -4.82   -2.45   -1.89\n",
       "75%     -4.82   -2.45   -1.89\n",
       "max     -4.82   -2.43    8.01"
      ]
     },
     "execution_count": 65,
     "metadata": {},
     "output_type": "execute_result"
    }
   ],
   "source": [
    "x_train.describe().round(2)"
   ]
  },
  {
   "cell_type": "code",
   "execution_count": 50,
   "id": "96cd8fb1",
   "metadata": {},
   "outputs": [],
   "source": [
    "x_test=pd.DataFrame(x_test_sc,columns=['pclass', 'age', 'parch'])"
   ]
  },
  {
   "cell_type": "code",
   "execution_count": null,
   "id": "679e1b44",
   "metadata": {},
   "outputs": [],
   "source": []
  },
  {
   "cell_type": "code",
   "execution_count": 51,
   "id": "0cfabfdb",
   "metadata": {},
   "outputs": [
    {
     "data": {
      "text/html": [
       "<div>\n",
       "<style scoped>\n",
       "    .dataframe tbody tr th:only-of-type {\n",
       "        vertical-align: middle;\n",
       "    }\n",
       "\n",
       "    .dataframe tbody tr th {\n",
       "        vertical-align: top;\n",
       "    }\n",
       "\n",
       "    .dataframe thead th {\n",
       "        text-align: right;\n",
       "    }\n",
       "</style>\n",
       "<table border=\"1\" class=\"dataframe\">\n",
       "  <thead>\n",
       "    <tr style=\"text-align: right;\">\n",
       "      <th></th>\n",
       "      <th>pclass</th>\n",
       "      <th>age</th>\n",
       "      <th>parch</th>\n",
       "    </tr>\n",
       "  </thead>\n",
       "  <tbody>\n",
       "    <tr>\n",
       "      <th>0</th>\n",
       "      <td>-4.565658</td>\n",
       "      <td>-2.212967</td>\n",
       "      <td>-1.109689</td>\n",
       "    </tr>\n",
       "    <tr>\n",
       "      <th>1</th>\n",
       "      <td>-1.758380</td>\n",
       "      <td>-2.260365</td>\n",
       "      <td>-1.109689</td>\n",
       "    </tr>\n",
       "    <tr>\n",
       "      <th>2</th>\n",
       "      <td>-1.758380</td>\n",
       "      <td>-2.272214</td>\n",
       "      <td>-1.109689</td>\n",
       "    </tr>\n",
       "    <tr>\n",
       "      <th>3</th>\n",
       "      <td>-4.565658</td>\n",
       "      <td>-2.273997</td>\n",
       "      <td>-1.109689</td>\n",
       "    </tr>\n",
       "    <tr>\n",
       "      <th>4</th>\n",
       "      <td>-3.162019</td>\n",
       "      <td>-2.248515</td>\n",
       "      <td>0.466673</td>\n",
       "    </tr>\n",
       "    <tr>\n",
       "      <th>...</th>\n",
       "      <td>...</td>\n",
       "      <td>...</td>\n",
       "      <td>...</td>\n",
       "    </tr>\n",
       "    <tr>\n",
       "      <th>174</th>\n",
       "      <td>-1.758380</td>\n",
       "      <td>-2.273997</td>\n",
       "      <td>2.043036</td>\n",
       "    </tr>\n",
       "    <tr>\n",
       "      <th>175</th>\n",
       "      <td>-1.758380</td>\n",
       "      <td>-2.295914</td>\n",
       "      <td>-1.109689</td>\n",
       "    </tr>\n",
       "    <tr>\n",
       "      <th>176</th>\n",
       "      <td>-3.162019</td>\n",
       "      <td>-2.307763</td>\n",
       "      <td>-1.109689</td>\n",
       "    </tr>\n",
       "    <tr>\n",
       "      <th>177</th>\n",
       "      <td>-4.565658</td>\n",
       "      <td>-2.266290</td>\n",
       "      <td>-1.109689</td>\n",
       "    </tr>\n",
       "    <tr>\n",
       "      <th>178</th>\n",
       "      <td>-4.565658</td>\n",
       "      <td>-2.230741</td>\n",
       "      <td>-1.109689</td>\n",
       "    </tr>\n",
       "  </tbody>\n",
       "</table>\n",
       "<p>179 rows × 3 columns</p>\n",
       "</div>"
      ],
      "text/plain": [
       "       pclass       age     parch\n",
       "0   -4.565658 -2.212967 -1.109689\n",
       "1   -1.758380 -2.260365 -1.109689\n",
       "2   -1.758380 -2.272214 -1.109689\n",
       "3   -4.565658 -2.273997 -1.109689\n",
       "4   -3.162019 -2.248515  0.466673\n",
       "..        ...       ...       ...\n",
       "174 -1.758380 -2.273997  2.043036\n",
       "175 -1.758380 -2.295914 -1.109689\n",
       "176 -3.162019 -2.307763 -1.109689\n",
       "177 -4.565658 -2.266290 -1.109689\n",
       "178 -4.565658 -2.230741 -1.109689\n",
       "\n",
       "[179 rows x 3 columns]"
      ]
     },
     "execution_count": 51,
     "metadata": {},
     "output_type": "execute_result"
    }
   ],
   "source": [
    "x_test"
   ]
  },
  {
   "cell_type": "code",
   "execution_count": null,
   "id": "cf45d8c6",
   "metadata": {},
   "outputs": [],
   "source": []
  }
 ],
 "metadata": {
  "kernelspec": {
   "display_name": "Python 3 (ipykernel)",
   "language": "python",
   "name": "python3"
  },
  "language_info": {
   "codemirror_mode": {
    "name": "ipython",
    "version": 3
   },
   "file_extension": ".py",
   "mimetype": "text/x-python",
   "name": "python",
   "nbconvert_exporter": "python",
   "pygments_lexer": "ipython3",
   "version": "3.9.13"
  }
 },
 "nbformat": 4,
 "nbformat_minor": 5
}
